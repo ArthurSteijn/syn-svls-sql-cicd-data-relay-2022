{
 "cells": [
  {
   "cell_type": "code",
   "execution_count": null,
   "metadata": {},
   "outputs": [],
   "source": [
    "# Run this script to export all database objects from the synapse serverless sql server\n",
    "import sys\n",
    "sys.path.insert(0, r\"examplecode\\python\\functions\")\n",
    "from functions.sqlauth import *\n",
    "from functions.synserverlessobjects import *\n",
    "from functions.dataframeoperations import *\n",
    "\n",
    "server = 'synapse-server-ondemand.sql.azuresynapse.net'\n",
    "\n",
    "def main():\n",
    "    \"\"\" Function to connect to an azure synapse ondemand server and exports \n",
    "    all views, stored procedures and functions to .sql files for all databases \"\"\"\n",
    "  \n",
    "    # get an azure ad user and repo directory \n",
    "    username, output_directory = get_personal_settings()\n",
    "    print('  sql server that is configured is: ' + server)\n",
    "    print('  username is set to: '+ username)\n",
    "    print('  output_directory is set to: '+ output_directory)\n",
    "\n",
    "    # creata a cursor for the connection\n",
    "    cursor, cnxn =  dbcnxn(server, username)\n",
    "\n",
    "    # get all databases from the server    \n",
    "    databases = get_databases(cursor)\n",
    "\n",
    "    # for each database export to sql files\n",
    "    for database in databases:\n",
    "        print(database[0])\n",
    "        database = database[0]\n",
    "        # clean export directory so that deleted objects are removed\n",
    "        clean_dir(output_directory + '/' + database) \n",
    "        # export all views, functions and stored procedures\n",
    "        export_views_to_dotsql(cursor, output_directory, database)\n",
    "        export_sp_to_dotsql(cursor, output_directory, database)\n",
    "        export_fn_to_dotsql(cursor, output_directory, database)\n",
    "\n",
    "    # close connection\n",
    "    cnxn.commit()\n",
    "    cursor.close()\n",
    "\n",
    "    print(\"All done\")\n",
    "\n",
    "if __name__ == \"__main__\":\n",
    "    main()"
   ]
  }
 ],
 "metadata": {
  "kernelspec": {
   "display_name": "Python 3.9.0 64-bit",
   "language": "python",
   "name": "python3"
  },
  "language_info": {
   "name": "python",
   "version": "3.9.0"
  },
  "orig_nbformat": 4,
  "vscode": {
   "interpreter": {
    "hash": "faa63f6ad121317745b456fffd8231c4e9aebf7ca3f005e22bd1745675f0dae7"
   }
  }
 },
 "nbformat": 4,
 "nbformat_minor": 2
}
