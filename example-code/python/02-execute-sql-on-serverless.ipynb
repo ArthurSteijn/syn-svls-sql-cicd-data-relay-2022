{
 "cells": [
  {
   "cell_type": "code",
   "execution_count": null,
   "metadata": {},
   "outputs": [],
   "source": [
    "# Run this script to execute all database objects on the synapse serverless sql server\n",
    "import os\n",
    "import sys\n",
    "import re\n",
    "sys.path.insert(0, r\"examplecode\\python\\functions\")\n",
    "from functions.sqlauth import *\n",
    "from functions.synserverlessobjects import *\n",
    "from functions.dataframeoperations import *\n",
    "\n",
    "server = 'target-synapse-server-ondemand.sql.azuresynapse.net'\n",
    "\n",
    "environment_reference_d = 'development-server'\n",
    "environment_reference_p = 'production-server'\n",
    "\n",
    "def main():\n",
    "    \"\"\" Function to connect to an azure synapse ondemand server \n",
    "        and execute all views, stored procedures and functions on their databases \"\"\"\n",
    "    \n",
    "    #authenticate to the server with azure ad account\n",
    "    username, repo_path = get_personal_settings()\n",
    "    print('Creata a connection and cursor to the synapse server')\n",
    "    cursor, cnxn =  dbcnxn(server, username)\n",
    "   \n",
    "    #get all the databases in the repository\n",
    "    databases = os.listdir(repo_path)\n",
    "\n",
    "    for database in databases:     \n",
    "        for sqlobject in os.listdir(os.path.join(repo_path, database)):\n",
    "            sqlObjectFile = open(os.path.join(repo_path, database, sqlobject))\n",
    "            sqlStatementString  = sqlObjectFile.read()\n",
    "            print('Executing for: '+ database + '.' + sqlobject)\n",
    "            \n",
    "            # replace dataverse database reference\n",
    "            if 'dp-p'in server:\n",
    "                sqlStatementString = re.sub(environment_reference_d, environment_reference_p, sqlStatementString)\n",
    "\n",
    "            #execute the sql statement against the server\n",
    "            execute_statement(cursor, database, sqlStatementString)\n",
    "\n",
    "    # close connection\n",
    "    cnxn.commit()\n",
    "    cursor.close()\n",
    "\n",
    "if __name__ == \"__main__\":\n",
    "    main()"
   ]
  }
 ],
 "metadata": {
  "kernelspec": {
   "display_name": "Python 3.9.0 64-bit",
   "language": "python",
   "name": "python3"
  },
  "language_info": {
   "name": "python",
   "version": "3.9.0"
  },
  "orig_nbformat": 4,
  "vscode": {
   "interpreter": {
    "hash": "faa63f6ad121317745b456fffd8231c4e9aebf7ca3f005e22bd1745675f0dae7"
   }
  }
 },
 "nbformat": 4,
 "nbformat_minor": 2
}
